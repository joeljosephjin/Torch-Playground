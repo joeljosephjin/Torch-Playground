{
 "cells": [
  {
   "cell_type": "code",
   "execution_count": 297,
   "id": "7ea5ec8d-2d78-489a-9181-80d44c9dccc2",
   "metadata": {},
   "outputs": [],
   "source": [
    "import joblib"
   ]
  },
  {
   "cell_type": "code",
   "execution_count": 298,
   "id": "4aa8f67d-7e50-4c7f-96c5-9e6030d4c972",
   "metadata": {},
   "outputs": [],
   "source": [
    "model = joblib.load('model.pkl')\n"
   ]
  },
  {
   "cell_type": "code",
   "execution_count": 299,
   "id": "1b3b3eaa-ad24-4a39-81c8-5e2c04045ed9",
   "metadata": {},
   "outputs": [],
   "source": [
    "import torch"
   ]
  },
  {
   "cell_type": "code",
   "execution_count": 300,
   "id": "1020a595-3aab-49de-8039-4fc394468f33",
   "metadata": {},
   "outputs": [],
   "source": [
    "model_other = joblib.load('model_other.pkl')"
   ]
  },
  {
   "cell_type": "code",
   "execution_count": 301,
   "id": "953bf5dc-918b-4755-bb5b-7b6eb1fced40",
   "metadata": {},
   "outputs": [],
   "source": [
    "# model.state_dict()"
   ]
  },
  {
   "cell_type": "code",
   "execution_count": 302,
   "id": "5a476763-079c-4912-a272-624527932f1b",
   "metadata": {},
   "outputs": [],
   "source": [
    "def compare_models(model_1, model_2):\n",
    "    models_differ = 0\n",
    "    for key_item_1, key_item_2 in zip(model_1.state_dict().items(), model_2.state_dict().items()):\n",
    "        if torch.equal(key_item_1[1], key_item_2[1]):\n",
    "            print('Its a match at', key_item_1[0])\n",
    "            pass\n",
    "        else:\n",
    "            models_differ += 1\n",
    "            if (key_item_1[0] == key_item_2[0]):\n",
    "                print('Mismatch found at', key_item_1[0])\n",
    "                # dt1, dt2 = key_item_1[1][0][0], key_item_2[1][0][0]\n",
    "                dt1, dt2 = key_item_1, key_item_2\n",
    "                # print('1:', dt1[1].cpu().detach().numpy())#[0])#[0])\n",
    "                # print('2:', dt2[1].cpu().detach().numpy())#[0])#[0])\n",
    "                # print('1:', dt1.cpu().detach().numpy())\n",
    "                # print('2:', dt2.cpu().detach().numpy())#[0])#[0])\n",
    "                # print(torch.allclose(dt1, dt2))\n",
    "                # print(torch.sum(torch.eq(dt1, dt2)).item()/dt1.nelement())\n",
    "                # break\n",
    "            else:\n",
    "                raise Exception('Names are different!')\n",
    "    if models_differ == 0:\n",
    "        print('Models match perfectly! :)')"
   ]
  },
  {
   "cell_type": "code",
   "execution_count": 303,
   "id": "690f72da-37c6-4690-b93f-5d1e584fe344",
   "metadata": {},
   "outputs": [],
   "source": [
    "model.state_dict()['conv1.weight'].grad"
   ]
  },
  {
   "cell_type": "code",
   "execution_count": null,
   "id": "640bd5fe-18a1-4379-9982-29ff1e990f88",
   "metadata": {},
   "outputs": [
    {
     "data": {
      "text/plain": [
       "array([[-0.01586339,  0.02022886,  0.07764986],\n",
       "       [-0.0116616 , -0.02882027,  0.0035004 ],\n",
       "       [-0.17207892,  0.00155905,  0.0471868 ]], dtype=float32)"
      ]
     },
     "execution_count": 304,
     "metadata": {},
     "output_type": "execute_result"
    }
   ],
   "source": [
    "model.state_dict()['conv1.weight'].cpu().detach().numpy()[0][0]"
   ]
  },
  {
   "cell_type": "code",
   "execution_count": 305,
   "id": "cbfd28db-4987-4a25-9ed8-5f7ba8331a77",
   "metadata": {},
   "outputs": [
    {
     "data": {
      "text/plain": [
       "array([[ 0.25077796,  0.09486041,  0.02097334],\n",
       "       [ 0.275178  ,  0.1079201 ,  0.05796075],\n",
       "       [-0.02418785,  0.08223687, -0.04097411]], dtype=float32)"
      ]
     },
     "execution_count": 305,
     "metadata": {},
     "output_type": "execute_result"
    }
   ],
   "source": [
    "model_other.state_dict()['conv1.weight'].cpu().detach().numpy()[0][0]"
   ]
  },
  {
   "cell_type": "code",
   "execution_count": 306,
   "id": "2f904eec-494d-44ba-a83d-e29e179f67a0",
   "metadata": {},
   "outputs": [
    {
     "data": {
      "text/plain": [
       "array([-0.00064227,  0.00395768,  0.01842655, -0.00622914,  0.00420009,\n",
       "        0.00018294,  0.02315863, -0.00022504, -0.00927119, -0.01681951,\n",
       "        0.00947453, -0.00023506, -0.00064698, -0.00877169,  0.0112449 ,\n",
       "        0.00470695, -0.01674166,  0.00863675, -0.00678893, -0.00778124,\n",
       "       -0.00665251,  0.00940233, -0.00718217, -0.01163542,  0.03688512,\n",
       "        0.002951  ,  0.07543098, -0.05768278,  0.00512432,  0.03226264,\n",
       "        0.12774254,  0.00478266, -0.11099424, -0.02743721,  0.11027243,\n",
       "        0.0951854 ], dtype=float32)"
      ]
     },
     "execution_count": 306,
     "metadata": {},
     "output_type": "execute_result"
    }
   ],
   "source": [
    "model.state_dict()['block1.layer.1.bn1.running_mean'].cpu().detach().numpy()"
   ]
  },
  {
   "cell_type": "code",
   "execution_count": 307,
   "id": "2c8a0f48-9cfb-4899-9e70-72ea2542c0b9",
   "metadata": {},
   "outputs": [
    {
     "data": {
      "text/plain": [
       "array([-0.00064227,  0.00395768,  0.01842655, -0.00622914,  0.00420009,\n",
       "        0.00018294,  0.02315863, -0.00022504, -0.00927119, -0.01681951,\n",
       "        0.00947453, -0.00023506, -0.00064698, -0.00877169,  0.0112449 ,\n",
       "        0.00470695, -0.01674166,  0.00863675, -0.00678893, -0.00778124,\n",
       "       -0.00665251,  0.00940233, -0.00718217, -0.01163542,  0.03688512,\n",
       "        0.002951  ,  0.07543098, -0.05768278,  0.00512432,  0.03226264,\n",
       "        0.12774254,  0.00478266, -0.11099424, -0.02743721,  0.11027243,\n",
       "        0.0951854 ], dtype=float32)"
      ]
     },
     "execution_count": 307,
     "metadata": {},
     "output_type": "execute_result"
    }
   ],
   "source": [
    "model_other.state_dict()['block1.layer.1.bn1.running_mean'].cpu().detach().numpy()"
   ]
  },
  {
   "cell_type": "code",
   "execution_count": 308,
   "id": "330fafcb-ba9e-4c3c-a5ba-f8e343e870f3",
   "metadata": {},
   "outputs": [
    {
     "data": {
      "text/plain": [
       "array(1)"
      ]
     },
     "execution_count": 308,
     "metadata": {},
     "output_type": "execute_result"
    }
   ],
   "source": [
    "model.state_dict()['block1.layer.0.bn1.num_batches_tracked'].cpu().detach().numpy()"
   ]
  },
  {
   "cell_type": "code",
   "execution_count": 309,
   "id": "219a9563-94a1-428a-8c9f-585447553ff7",
   "metadata": {},
   "outputs": [
    {
     "data": {
      "text/plain": [
       "array(1)"
      ]
     },
     "execution_count": 309,
     "metadata": {},
     "output_type": "execute_result"
    }
   ],
   "source": [
    "model_other.state_dict()['block1.layer.0.bn1.num_batches_tracked'].cpu().detach().numpy()"
   ]
  },
  {
   "cell_type": "code",
   "execution_count": 310,
   "id": "e88df76f-12bb-4788-aa19-863ebbc55f82",
   "metadata": {},
   "outputs": [
    {
     "name": "stdout",
     "output_type": "stream",
     "text": [
      "Mismatch found at conv1.weight\n",
      "Mismatch found at block1.layer.0.bn1.weight\n",
      "Mismatch found at block1.layer.0.bn1.bias\n",
      "Its a match at block1.layer.0.bn1.running_mean\n",
      "Its a match at block1.layer.0.bn1.running_var\n",
      "Its a match at block1.layer.0.bn1.num_batches_tracked\n",
      "Mismatch found at block1.layer.0.conv1.weight\n",
      "Mismatch found at block1.layer.1.bn1.weight\n",
      "Mismatch found at block1.layer.1.bn1.bias\n",
      "Its a match at block1.layer.1.bn1.running_mean\n",
      "Its a match at block1.layer.1.bn1.running_var\n",
      "Its a match at block1.layer.1.bn1.num_batches_tracked\n",
      "Mismatch found at block1.layer.1.conv1.weight\n",
      "Mismatch found at block1.layer.2.bn1.weight\n",
      "Mismatch found at block1.layer.2.bn1.bias\n",
      "Its a match at block1.layer.2.bn1.running_mean\n",
      "Its a match at block1.layer.2.bn1.running_var\n",
      "Its a match at block1.layer.2.bn1.num_batches_tracked\n",
      "Mismatch found at block1.layer.2.conv1.weight\n",
      "Mismatch found at block1.layer.3.bn1.weight\n",
      "Mismatch found at block1.layer.3.bn1.bias\n",
      "Its a match at block1.layer.3.bn1.running_mean\n",
      "Its a match at block1.layer.3.bn1.running_var\n",
      "Its a match at block1.layer.3.bn1.num_batches_tracked\n",
      "Mismatch found at block1.layer.3.conv1.weight\n",
      "Mismatch found at block1.layer.4.bn1.weight\n",
      "Mismatch found at block1.layer.4.bn1.bias\n",
      "Its a match at block1.layer.4.bn1.running_mean\n",
      "Its a match at block1.layer.4.bn1.running_var\n",
      "Its a match at block1.layer.4.bn1.num_batches_tracked\n",
      "Mismatch found at block1.layer.4.conv1.weight\n",
      "Mismatch found at block1.layer.5.bn1.weight\n",
      "Mismatch found at block1.layer.5.bn1.bias\n",
      "Its a match at block1.layer.5.bn1.running_mean\n",
      "Its a match at block1.layer.5.bn1.running_var\n",
      "Its a match at block1.layer.5.bn1.num_batches_tracked\n",
      "Mismatch found at block1.layer.5.conv1.weight\n",
      "Mismatch found at block1.layer.6.bn1.weight\n",
      "Mismatch found at block1.layer.6.bn1.bias\n",
      "Its a match at block1.layer.6.bn1.running_mean\n",
      "Its a match at block1.layer.6.bn1.running_var\n",
      "Its a match at block1.layer.6.bn1.num_batches_tracked\n",
      "Mismatch found at block1.layer.6.conv1.weight\n",
      "Mismatch found at block1.layer.7.bn1.weight\n",
      "Mismatch found at block1.layer.7.bn1.bias\n",
      "Its a match at block1.layer.7.bn1.running_mean\n",
      "Its a match at block1.layer.7.bn1.running_var\n",
      "Its a match at block1.layer.7.bn1.num_batches_tracked\n",
      "Mismatch found at block1.layer.7.conv1.weight\n",
      "Mismatch found at block1.layer.8.bn1.weight\n",
      "Mismatch found at block1.layer.8.bn1.bias\n",
      "Its a match at block1.layer.8.bn1.running_mean\n",
      "Its a match at block1.layer.8.bn1.running_var\n",
      "Its a match at block1.layer.8.bn1.num_batches_tracked\n",
      "Mismatch found at block1.layer.8.conv1.weight\n",
      "Mismatch found at block1.layer.9.bn1.weight\n",
      "Mismatch found at block1.layer.9.bn1.bias\n",
      "Its a match at block1.layer.9.bn1.running_mean\n",
      "Its a match at block1.layer.9.bn1.running_var\n",
      "Its a match at block1.layer.9.bn1.num_batches_tracked\n",
      "Mismatch found at block1.layer.9.conv1.weight\n",
      "Mismatch found at block1.layer.10.bn1.weight\n",
      "Mismatch found at block1.layer.10.bn1.bias\n",
      "Its a match at block1.layer.10.bn1.running_mean\n",
      "Its a match at block1.layer.10.bn1.running_var\n",
      "Its a match at block1.layer.10.bn1.num_batches_tracked\n",
      "Mismatch found at block1.layer.10.conv1.weight\n",
      "Mismatch found at block1.layer.11.bn1.weight\n",
      "Mismatch found at block1.layer.11.bn1.bias\n",
      "Its a match at block1.layer.11.bn1.running_mean\n",
      "Its a match at block1.layer.11.bn1.running_var\n",
      "Its a match at block1.layer.11.bn1.num_batches_tracked\n",
      "Mismatch found at block1.layer.11.conv1.weight\n",
      "Mismatch found at trans1.bn1.weight\n",
      "Mismatch found at trans1.bn1.bias\n",
      "Its a match at trans1.bn1.running_mean\n",
      "Its a match at trans1.bn1.running_var\n",
      "Its a match at trans1.bn1.num_batches_tracked\n",
      "Mismatch found at trans1.conv1.weight\n",
      "Mismatch found at block2.layer.0.bn1.weight\n",
      "Mismatch found at block2.layer.0.bn1.bias\n",
      "Its a match at block2.layer.0.bn1.running_mean\n",
      "Its a match at block2.layer.0.bn1.running_var\n",
      "Its a match at block2.layer.0.bn1.num_batches_tracked\n",
      "Mismatch found at block2.layer.0.conv1.weight\n",
      "Mismatch found at block2.layer.1.bn1.weight\n",
      "Mismatch found at block2.layer.1.bn1.bias\n",
      "Its a match at block2.layer.1.bn1.running_mean\n",
      "Its a match at block2.layer.1.bn1.running_var\n",
      "Its a match at block2.layer.1.bn1.num_batches_tracked\n",
      "Mismatch found at block2.layer.1.conv1.weight\n",
      "Mismatch found at block2.layer.2.bn1.weight\n",
      "Mismatch found at block2.layer.2.bn1.bias\n",
      "Its a match at block2.layer.2.bn1.running_mean\n",
      "Its a match at block2.layer.2.bn1.running_var\n",
      "Its a match at block2.layer.2.bn1.num_batches_tracked\n",
      "Mismatch found at block2.layer.2.conv1.weight\n",
      "Mismatch found at block2.layer.3.bn1.weight\n",
      "Mismatch found at block2.layer.3.bn1.bias\n",
      "Its a match at block2.layer.3.bn1.running_mean\n",
      "Its a match at block2.layer.3.bn1.running_var\n",
      "Its a match at block2.layer.3.bn1.num_batches_tracked\n",
      "Mismatch found at block2.layer.3.conv1.weight\n",
      "Mismatch found at block2.layer.4.bn1.weight\n",
      "Mismatch found at block2.layer.4.bn1.bias\n",
      "Its a match at block2.layer.4.bn1.running_mean\n",
      "Its a match at block2.layer.4.bn1.running_var\n",
      "Its a match at block2.layer.4.bn1.num_batches_tracked\n",
      "Mismatch found at block2.layer.4.conv1.weight\n",
      "Mismatch found at block2.layer.5.bn1.weight\n",
      "Mismatch found at block2.layer.5.bn1.bias\n",
      "Its a match at block2.layer.5.bn1.running_mean\n",
      "Its a match at block2.layer.5.bn1.running_var\n",
      "Its a match at block2.layer.5.bn1.num_batches_tracked\n",
      "Mismatch found at block2.layer.5.conv1.weight\n",
      "Mismatch found at block2.layer.6.bn1.weight\n",
      "Mismatch found at block2.layer.6.bn1.bias\n",
      "Its a match at block2.layer.6.bn1.running_mean\n",
      "Its a match at block2.layer.6.bn1.running_var\n",
      "Its a match at block2.layer.6.bn1.num_batches_tracked\n",
      "Mismatch found at block2.layer.6.conv1.weight\n",
      "Mismatch found at block2.layer.7.bn1.weight\n",
      "Mismatch found at block2.layer.7.bn1.bias\n",
      "Its a match at block2.layer.7.bn1.running_mean\n",
      "Its a match at block2.layer.7.bn1.running_var\n",
      "Its a match at block2.layer.7.bn1.num_batches_tracked\n",
      "Mismatch found at block2.layer.7.conv1.weight\n",
      "Mismatch found at block2.layer.8.bn1.weight\n",
      "Mismatch found at block2.layer.8.bn1.bias\n",
      "Its a match at block2.layer.8.bn1.running_mean\n",
      "Its a match at block2.layer.8.bn1.running_var\n",
      "Its a match at block2.layer.8.bn1.num_batches_tracked\n",
      "Mismatch found at block2.layer.8.conv1.weight\n",
      "Mismatch found at block2.layer.9.bn1.weight\n",
      "Mismatch found at block2.layer.9.bn1.bias\n",
      "Its a match at block2.layer.9.bn1.running_mean\n",
      "Its a match at block2.layer.9.bn1.running_var\n",
      "Its a match at block2.layer.9.bn1.num_batches_tracked\n",
      "Mismatch found at block2.layer.9.conv1.weight\n",
      "Mismatch found at block2.layer.10.bn1.weight\n",
      "Mismatch found at block2.layer.10.bn1.bias\n",
      "Its a match at block2.layer.10.bn1.running_mean\n",
      "Its a match at block2.layer.10.bn1.running_var\n",
      "Its a match at block2.layer.10.bn1.num_batches_tracked\n",
      "Mismatch found at block2.layer.10.conv1.weight\n",
      "Mismatch found at block2.layer.11.bn1.weight\n",
      "Mismatch found at block2.layer.11.bn1.bias\n",
      "Its a match at block2.layer.11.bn1.running_mean\n",
      "Its a match at block2.layer.11.bn1.running_var\n",
      "Its a match at block2.layer.11.bn1.num_batches_tracked\n",
      "Mismatch found at block2.layer.11.conv1.weight\n",
      "Mismatch found at trans2.bn1.weight\n",
      "Mismatch found at trans2.bn1.bias\n",
      "Its a match at trans2.bn1.running_mean\n",
      "Its a match at trans2.bn1.running_var\n",
      "Its a match at trans2.bn1.num_batches_tracked\n",
      "Mismatch found at trans2.conv1.weight\n",
      "Mismatch found at block3.layer.0.bn1.weight\n",
      "Mismatch found at block3.layer.0.bn1.bias\n",
      "Its a match at block3.layer.0.bn1.running_mean\n",
      "Its a match at block3.layer.0.bn1.running_var\n",
      "Its a match at block3.layer.0.bn1.num_batches_tracked\n",
      "Mismatch found at block3.layer.0.conv1.weight\n",
      "Mismatch found at block3.layer.1.bn1.weight\n",
      "Mismatch found at block3.layer.1.bn1.bias\n",
      "Its a match at block3.layer.1.bn1.running_mean\n",
      "Its a match at block3.layer.1.bn1.running_var\n",
      "Its a match at block3.layer.1.bn1.num_batches_tracked\n",
      "Mismatch found at block3.layer.1.conv1.weight\n",
      "Mismatch found at block3.layer.2.bn1.weight\n",
      "Mismatch found at block3.layer.2.bn1.bias\n",
      "Its a match at block3.layer.2.bn1.running_mean\n",
      "Its a match at block3.layer.2.bn1.running_var\n",
      "Its a match at block3.layer.2.bn1.num_batches_tracked\n",
      "Mismatch found at block3.layer.2.conv1.weight\n",
      "Mismatch found at block3.layer.3.bn1.weight\n",
      "Mismatch found at block3.layer.3.bn1.bias\n",
      "Its a match at block3.layer.3.bn1.running_mean\n",
      "Its a match at block3.layer.3.bn1.running_var\n",
      "Its a match at block3.layer.3.bn1.num_batches_tracked\n",
      "Mismatch found at block3.layer.3.conv1.weight\n",
      "Mismatch found at block3.layer.4.bn1.weight\n",
      "Mismatch found at block3.layer.4.bn1.bias\n",
      "Its a match at block3.layer.4.bn1.running_mean\n",
      "Its a match at block3.layer.4.bn1.running_var\n",
      "Its a match at block3.layer.4.bn1.num_batches_tracked\n",
      "Mismatch found at block3.layer.4.conv1.weight\n",
      "Mismatch found at block3.layer.5.bn1.weight\n",
      "Mismatch found at block3.layer.5.bn1.bias\n",
      "Its a match at block3.layer.5.bn1.running_mean\n",
      "Its a match at block3.layer.5.bn1.running_var\n",
      "Its a match at block3.layer.5.bn1.num_batches_tracked\n",
      "Mismatch found at block3.layer.5.conv1.weight\n",
      "Mismatch found at block3.layer.6.bn1.weight\n",
      "Mismatch found at block3.layer.6.bn1.bias\n",
      "Its a match at block3.layer.6.bn1.running_mean\n",
      "Its a match at block3.layer.6.bn1.running_var\n",
      "Its a match at block3.layer.6.bn1.num_batches_tracked\n",
      "Mismatch found at block3.layer.6.conv1.weight\n",
      "Mismatch found at block3.layer.7.bn1.weight\n",
      "Mismatch found at block3.layer.7.bn1.bias\n",
      "Its a match at block3.layer.7.bn1.running_mean\n",
      "Its a match at block3.layer.7.bn1.running_var\n",
      "Its a match at block3.layer.7.bn1.num_batches_tracked\n",
      "Mismatch found at block3.layer.7.conv1.weight\n",
      "Mismatch found at block3.layer.8.bn1.weight\n",
      "Mismatch found at block3.layer.8.bn1.bias\n",
      "Its a match at block3.layer.8.bn1.running_mean\n",
      "Its a match at block3.layer.8.bn1.running_var\n",
      "Its a match at block3.layer.8.bn1.num_batches_tracked\n",
      "Mismatch found at block3.layer.8.conv1.weight\n",
      "Mismatch found at block3.layer.9.bn1.weight\n",
      "Mismatch found at block3.layer.9.bn1.bias\n",
      "Its a match at block3.layer.9.bn1.running_mean\n",
      "Its a match at block3.layer.9.bn1.running_var\n",
      "Its a match at block3.layer.9.bn1.num_batches_tracked\n",
      "Mismatch found at block3.layer.9.conv1.weight\n",
      "Mismatch found at block3.layer.10.bn1.weight\n",
      "Mismatch found at block3.layer.10.bn1.bias\n",
      "Its a match at block3.layer.10.bn1.running_mean\n",
      "Its a match at block3.layer.10.bn1.running_var\n",
      "Its a match at block3.layer.10.bn1.num_batches_tracked\n",
      "Mismatch found at block3.layer.10.conv1.weight\n",
      "Mismatch found at block3.layer.11.bn1.weight\n",
      "Mismatch found at block3.layer.11.bn1.bias\n",
      "Its a match at block3.layer.11.bn1.running_mean\n",
      "Its a match at block3.layer.11.bn1.running_var\n",
      "Its a match at block3.layer.11.bn1.num_batches_tracked\n",
      "Mismatch found at block3.layer.11.conv1.weight\n",
      "Mismatch found at bn1.weight\n",
      "Mismatch found at bn1.bias\n",
      "Its a match at bn1.running_mean\n",
      "Its a match at bn1.running_var\n",
      "Its a match at bn1.num_batches_tracked\n",
      "Mismatch found at fc.weight\n",
      "Mismatch found at fc.bias\n"
     ]
    }
   ],
   "source": [
    "compare_models(model, model_other)"
   ]
  },
  {
   "cell_type": "code",
   "execution_count": 45,
   "id": "cc47bd5f-89e9-4721-b3f5-2283d4f5cdc7",
   "metadata": {},
   "outputs": [],
   "source": [
    "t1 = torch.tensor([[[ 0.1005, -0.0445,  0.0950],\n",
    "         [-0.1138,  0.1395, -0.0370],\n",
    "         [-0.0035, -0.0637, -0.0009]],\n",
    "\n",
    "        [[ 0.0412,  0.1025,  0.0709],\n",
    "         [ 0.0337,  0.0216,  0.0087],\n",
    "         [-0.0028, -0.0428, -0.0132]],\n",
    "\n",
    "        [[ 0.0994,  0.0065, -0.0915],\n",
    "         [-0.0065,  0.0593, -0.0698],\n",
    "         [ 0.0746,  0.0531,  0.1894]]], device='cuda:0')"
   ]
  },
  {
   "cell_type": "code",
   "execution_count": 48,
   "id": "35a5b705-db97-4050-9e04-11af8ffd83ca",
   "metadata": {},
   "outputs": [],
   "source": [
    "t2=torch.tensor([[[ 0.1005, -0.0445,  0.0950],\n",
    "         [-0.1138,  0.1395, -0.0370],\n",
    "         [-0.0035, -0.0637, -0.0009]],\n",
    "\n",
    "        [[ 0.0412,  0.1025,  0.0709],\n",
    "         [ 0.0337,  0.0216,  0.0087],\n",
    "         [-0.0028, -0.0428, -0.0132]],\n",
    "\n",
    "        [[ 0.0994,  0.0065, -0.0915],\n",
    "         [-0.0065,  0.0593, -0.0698],\n",
    "         [ 0.0746,  0.0531,  0.1894]]], device='cuda:0')"
   ]
  },
  {
   "cell_type": "code",
   "execution_count": 49,
   "id": "09166997-4d07-42ea-b769-8d88a7790cde",
   "metadata": {},
   "outputs": [
    {
     "data": {
      "text/plain": [
       "tensor([[[True, True, True],\n",
       "         [True, True, True],\n",
       "         [True, True, True]],\n",
       "\n",
       "        [[True, True, True],\n",
       "         [True, True, True],\n",
       "         [True, True, True]],\n",
       "\n",
       "        [[True, True, True],\n",
       "         [True, True, True],\n",
       "         [True, True, True]]], device='cuda:0')"
      ]
     },
     "execution_count": 49,
     "metadata": {},
     "output_type": "execute_result"
    }
   ],
   "source": [
    "torch.eq(t1, t2)"
   ]
  },
  {
   "cell_type": "code",
   "execution_count": 54,
   "id": "fc099c2e-b01d-45e3-bcf5-2ce140f48400",
   "metadata": {},
   "outputs": [
    {
     "name": "stdout",
     "output_type": "stream",
     "text": [
      "1.0\n"
     ]
    }
   ],
   "source": [
    "print(torch.sum(torch.eq(t1, t2)).item()/t1.nelement())"
   ]
  },
  {
   "cell_type": "markdown",
   "id": "e104f709-6a5b-4caf-bc01-c6b0eb98de6c",
   "metadata": {},
   "source": [
    "# compare the inputs"
   ]
  },
  {
   "cell_type": "code",
   "execution_count": 183,
   "id": "4a9c6d4c-9f20-4c55-8b1d-6c07ce5a0a43",
   "metadata": {},
   "outputs": [],
   "source": [
    "input = joblib.load('input.pkl')\n",
    "input_other = joblib.load('input_other.pkl')\n"
   ]
  },
  {
   "cell_type": "code",
   "execution_count": 185,
   "id": "46b6bb78-f98b-4da0-8267-d3757bcd9041",
   "metadata": {},
   "outputs": [
    {
     "data": {
      "text/plain": [
       "True"
      ]
     },
     "execution_count": 185,
     "metadata": {},
     "output_type": "execute_result"
    }
   ],
   "source": [
    "torch.equal(input, input_other)"
   ]
  },
  {
   "cell_type": "code",
   "execution_count": null,
   "id": "54c2cb49-8a85-4d83-a58a-936e1b2520b5",
   "metadata": {},
   "outputs": [],
   "source": []
  },
  {
   "cell_type": "code",
   "execution_count": null,
   "id": "c620d0a1-247b-465a-a67b-6e62fe425bb0",
   "metadata": {},
   "outputs": [],
   "source": []
  }
 ],
 "metadata": {
  "kernelspec": {
   "display_name": "py310",
   "language": "python",
   "name": "py310"
  },
  "language_info": {
   "codemirror_mode": {
    "name": "ipython",
    "version": 3
   },
   "file_extension": ".py",
   "mimetype": "text/x-python",
   "name": "python",
   "nbconvert_exporter": "python",
   "pygments_lexer": "ipython3",
   "version": "3.10.0"
  }
 },
 "nbformat": 4,
 "nbformat_minor": 5
}
