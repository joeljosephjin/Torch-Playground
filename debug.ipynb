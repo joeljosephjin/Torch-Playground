{
 "cells": [
  {
   "cell_type": "code",
   "execution_count": 1,
   "id": "7ea5ec8d-2d78-489a-9181-80d44c9dccc2",
   "metadata": {},
   "outputs": [
    {
     "name": "stderr",
     "output_type": "stream",
     "text": [
      "/home/joel/miniconda3/envs/py310/lib/python3.10/site-packages/tqdm/auto.py:22: TqdmWarning: IProgress not found. Please update jupyter and ipywidgets. See https://ipywidgets.readthedocs.io/en/stable/user_install.html\n",
      "  from .autonotebook import tqdm as notebook_tqdm\n"
     ]
    }
   ],
   "source": [
    "import joblib\n",
    "import torch"
   ]
  },
  {
   "cell_type": "code",
   "execution_count": 109,
   "id": "5a476763-079c-4912-a272-624527932f1b",
   "metadata": {},
   "outputs": [],
   "source": [
    "def compare_models(model_1, model_2):\n",
    "    models_differ = 0\n",
    "    for key_item_1, key_item_2 in zip(model_1.state_dict().items(), model_2.state_dict().items()):\n",
    "        if torch.equal(key_item_1[1], key_item_2[1]):\n",
    "            print('Its a match at', key_item_1[0])\n",
    "            pass\n",
    "        else:\n",
    "            models_differ += 1\n",
    "            if (key_item_1[0] == key_item_2[0]):\n",
    "                print('Mismatch found at', key_item_1[0])\n",
    "                # dt1, dt2 = key_item_1[1][0][0], key_item_2[1][0][0]\n",
    "                dt1, dt2 = key_item_1, key_item_2\n",
    "                # print('1:', dt1[1].cpu().detach().numpy())#[0])#[0])\n",
    "                # print('2:', dt2[1].cpu().detach().numpy())#[0])#[0])\n",
    "                # print('1:', dt1.cpu().detach().numpy())\n",
    "                # print('2:', dt2.cpu().detach().numpy())#[0])#[0])\n",
    "                # print(torch.allclose(dt1, dt2))\n",
    "                # print(torch.sum(torch.eq(dt1, dt2)).item()/dt1.nelement())\n",
    "                # break\n",
    "            else:\n",
    "                raise Exception('Names are different!')\n",
    "    if models_differ == 0:\n",
    "        print('Models match perfectly! :)')"
   ]
  },
  {
   "cell_type": "code",
   "execution_count": 215,
   "id": "0bd02a06-c73e-49cb-bbe4-d44502205d6d",
   "metadata": {},
   "outputs": [
    {
     "name": "stdout",
     "output_type": "stream",
     "text": [
      "Its a match at conv1.weight\n",
      "Its a match at block1.layer.0.bn1.weight\n",
      "Its a match at block1.layer.0.bn1.bias\n",
      "Its a match at block1.layer.0.bn1.running_mean\n",
      "Its a match at block1.layer.0.bn1.running_var\n",
      "Its a match at block1.layer.0.bn1.num_batches_tracked\n",
      "Its a match at block1.layer.0.conv1.weight\n",
      "Its a match at block1.layer.1.bn1.weight\n",
      "Its a match at block1.layer.1.bn1.bias\n",
      "Its a match at block1.layer.1.bn1.running_mean\n",
      "Its a match at block1.layer.1.bn1.running_var\n",
      "Its a match at block1.layer.1.bn1.num_batches_tracked\n",
      "Its a match at block1.layer.1.conv1.weight\n",
      "Its a match at block1.layer.2.bn1.weight\n",
      "Its a match at block1.layer.2.bn1.bias\n",
      "Its a match at block1.layer.2.bn1.running_mean\n",
      "Its a match at block1.layer.2.bn1.running_var\n",
      "Its a match at block1.layer.2.bn1.num_batches_tracked\n",
      "Its a match at block1.layer.2.conv1.weight\n",
      "Its a match at block1.layer.3.bn1.weight\n",
      "Its a match at block1.layer.3.bn1.bias\n",
      "Its a match at block1.layer.3.bn1.running_mean\n",
      "Its a match at block1.layer.3.bn1.running_var\n",
      "Its a match at block1.layer.3.bn1.num_batches_tracked\n",
      "Its a match at block1.layer.3.conv1.weight\n",
      "Its a match at block1.layer.4.bn1.weight\n",
      "Its a match at block1.layer.4.bn1.bias\n",
      "Its a match at block1.layer.4.bn1.running_mean\n",
      "Its a match at block1.layer.4.bn1.running_var\n",
      "Its a match at block1.layer.4.bn1.num_batches_tracked\n",
      "Its a match at block1.layer.4.conv1.weight\n",
      "Its a match at block1.layer.5.bn1.weight\n",
      "Its a match at block1.layer.5.bn1.bias\n",
      "Its a match at block1.layer.5.bn1.running_mean\n",
      "Its a match at block1.layer.5.bn1.running_var\n",
      "Its a match at block1.layer.5.bn1.num_batches_tracked\n",
      "Its a match at block1.layer.5.conv1.weight\n",
      "Its a match at block1.layer.6.bn1.weight\n",
      "Its a match at block1.layer.6.bn1.bias\n",
      "Its a match at block1.layer.6.bn1.running_mean\n",
      "Its a match at block1.layer.6.bn1.running_var\n",
      "Its a match at block1.layer.6.bn1.num_batches_tracked\n",
      "Its a match at block1.layer.6.conv1.weight\n",
      "Its a match at block1.layer.7.bn1.weight\n",
      "Its a match at block1.layer.7.bn1.bias\n",
      "Its a match at block1.layer.7.bn1.running_mean\n",
      "Its a match at block1.layer.7.bn1.running_var\n",
      "Its a match at block1.layer.7.bn1.num_batches_tracked\n",
      "Its a match at block1.layer.7.conv1.weight\n",
      "Its a match at block1.layer.8.bn1.weight\n",
      "Its a match at block1.layer.8.bn1.bias\n",
      "Its a match at block1.layer.8.bn1.running_mean\n",
      "Its a match at block1.layer.8.bn1.running_var\n",
      "Its a match at block1.layer.8.bn1.num_batches_tracked\n",
      "Its a match at block1.layer.8.conv1.weight\n",
      "Its a match at block1.layer.9.bn1.weight\n",
      "Its a match at block1.layer.9.bn1.bias\n",
      "Its a match at block1.layer.9.bn1.running_mean\n",
      "Its a match at block1.layer.9.bn1.running_var\n",
      "Its a match at block1.layer.9.bn1.num_batches_tracked\n",
      "Its a match at block1.layer.9.conv1.weight\n",
      "Its a match at block1.layer.10.bn1.weight\n",
      "Its a match at block1.layer.10.bn1.bias\n",
      "Its a match at block1.layer.10.bn1.running_mean\n",
      "Its a match at block1.layer.10.bn1.running_var\n",
      "Its a match at block1.layer.10.bn1.num_batches_tracked\n",
      "Its a match at block1.layer.10.conv1.weight\n",
      "Its a match at block1.layer.11.bn1.weight\n",
      "Its a match at block1.layer.11.bn1.bias\n",
      "Its a match at block1.layer.11.bn1.running_mean\n",
      "Its a match at block1.layer.11.bn1.running_var\n",
      "Its a match at block1.layer.11.bn1.num_batches_tracked\n",
      "Its a match at block1.layer.11.conv1.weight\n",
      "Its a match at trans1.bn1.weight\n",
      "Its a match at trans1.bn1.bias\n",
      "Its a match at trans1.bn1.running_mean\n",
      "Its a match at trans1.bn1.running_var\n",
      "Its a match at trans1.bn1.num_batches_tracked\n",
      "Its a match at trans1.conv1.weight\n",
      "Its a match at block2.layer.0.bn1.weight\n",
      "Its a match at block2.layer.0.bn1.bias\n",
      "Its a match at block2.layer.0.bn1.running_mean\n",
      "Its a match at block2.layer.0.bn1.running_var\n",
      "Its a match at block2.layer.0.bn1.num_batches_tracked\n",
      "Its a match at block2.layer.0.conv1.weight\n",
      "Its a match at block2.layer.1.bn1.weight\n",
      "Its a match at block2.layer.1.bn1.bias\n",
      "Its a match at block2.layer.1.bn1.running_mean\n",
      "Its a match at block2.layer.1.bn1.running_var\n",
      "Its a match at block2.layer.1.bn1.num_batches_tracked\n",
      "Its a match at block2.layer.1.conv1.weight\n",
      "Its a match at block2.layer.2.bn1.weight\n",
      "Its a match at block2.layer.2.bn1.bias\n",
      "Its a match at block2.layer.2.bn1.running_mean\n",
      "Its a match at block2.layer.2.bn1.running_var\n",
      "Its a match at block2.layer.2.bn1.num_batches_tracked\n",
      "Its a match at block2.layer.2.conv1.weight\n",
      "Its a match at block2.layer.3.bn1.weight\n",
      "Its a match at block2.layer.3.bn1.bias\n",
      "Its a match at block2.layer.3.bn1.running_mean\n",
      "Its a match at block2.layer.3.bn1.running_var\n",
      "Its a match at block2.layer.3.bn1.num_batches_tracked\n",
      "Its a match at block2.layer.3.conv1.weight\n",
      "Its a match at block2.layer.4.bn1.weight\n",
      "Its a match at block2.layer.4.bn1.bias\n",
      "Its a match at block2.layer.4.bn1.running_mean\n",
      "Its a match at block2.layer.4.bn1.running_var\n",
      "Its a match at block2.layer.4.bn1.num_batches_tracked\n",
      "Its a match at block2.layer.4.conv1.weight\n",
      "Its a match at block2.layer.5.bn1.weight\n",
      "Its a match at block2.layer.5.bn1.bias\n",
      "Its a match at block2.layer.5.bn1.running_mean\n",
      "Its a match at block2.layer.5.bn1.running_var\n",
      "Its a match at block2.layer.5.bn1.num_batches_tracked\n",
      "Its a match at block2.layer.5.conv1.weight\n",
      "Its a match at block2.layer.6.bn1.weight\n",
      "Its a match at block2.layer.6.bn1.bias\n",
      "Its a match at block2.layer.6.bn1.running_mean\n",
      "Its a match at block2.layer.6.bn1.running_var\n",
      "Its a match at block2.layer.6.bn1.num_batches_tracked\n",
      "Its a match at block2.layer.6.conv1.weight\n",
      "Its a match at block2.layer.7.bn1.weight\n",
      "Its a match at block2.layer.7.bn1.bias\n",
      "Its a match at block2.layer.7.bn1.running_mean\n",
      "Its a match at block2.layer.7.bn1.running_var\n",
      "Its a match at block2.layer.7.bn1.num_batches_tracked\n",
      "Its a match at block2.layer.7.conv1.weight\n",
      "Its a match at block2.layer.8.bn1.weight\n",
      "Its a match at block2.layer.8.bn1.bias\n",
      "Its a match at block2.layer.8.bn1.running_mean\n",
      "Its a match at block2.layer.8.bn1.running_var\n",
      "Its a match at block2.layer.8.bn1.num_batches_tracked\n",
      "Its a match at block2.layer.8.conv1.weight\n",
      "Its a match at block2.layer.9.bn1.weight\n",
      "Its a match at block2.layer.9.bn1.bias\n",
      "Its a match at block2.layer.9.bn1.running_mean\n",
      "Its a match at block2.layer.9.bn1.running_var\n",
      "Its a match at block2.layer.9.bn1.num_batches_tracked\n",
      "Its a match at block2.layer.9.conv1.weight\n",
      "Its a match at block2.layer.10.bn1.weight\n",
      "Its a match at block2.layer.10.bn1.bias\n",
      "Its a match at block2.layer.10.bn1.running_mean\n",
      "Its a match at block2.layer.10.bn1.running_var\n",
      "Its a match at block2.layer.10.bn1.num_batches_tracked\n",
      "Its a match at block2.layer.10.conv1.weight\n",
      "Its a match at block2.layer.11.bn1.weight\n",
      "Its a match at block2.layer.11.bn1.bias\n",
      "Its a match at block2.layer.11.bn1.running_mean\n",
      "Its a match at block2.layer.11.bn1.running_var\n",
      "Its a match at block2.layer.11.bn1.num_batches_tracked\n",
      "Its a match at block2.layer.11.conv1.weight\n",
      "Its a match at trans2.bn1.weight\n",
      "Its a match at trans2.bn1.bias\n",
      "Its a match at trans2.bn1.running_mean\n",
      "Its a match at trans2.bn1.running_var\n",
      "Its a match at trans2.bn1.num_batches_tracked\n",
      "Its a match at trans2.conv1.weight\n",
      "Its a match at block3.layer.0.bn1.weight\n",
      "Its a match at block3.layer.0.bn1.bias\n",
      "Its a match at block3.layer.0.bn1.running_mean\n",
      "Its a match at block3.layer.0.bn1.running_var\n",
      "Its a match at block3.layer.0.bn1.num_batches_tracked\n",
      "Its a match at block3.layer.0.conv1.weight\n",
      "Its a match at block3.layer.1.bn1.weight\n",
      "Its a match at block3.layer.1.bn1.bias\n",
      "Its a match at block3.layer.1.bn1.running_mean\n",
      "Its a match at block3.layer.1.bn1.running_var\n",
      "Its a match at block3.layer.1.bn1.num_batches_tracked\n",
      "Its a match at block3.layer.1.conv1.weight\n",
      "Its a match at block3.layer.2.bn1.weight\n",
      "Its a match at block3.layer.2.bn1.bias\n",
      "Its a match at block3.layer.2.bn1.running_mean\n",
      "Its a match at block3.layer.2.bn1.running_var\n",
      "Its a match at block3.layer.2.bn1.num_batches_tracked\n",
      "Its a match at block3.layer.2.conv1.weight\n",
      "Its a match at block3.layer.3.bn1.weight\n",
      "Its a match at block3.layer.3.bn1.bias\n",
      "Its a match at block3.layer.3.bn1.running_mean\n",
      "Its a match at block3.layer.3.bn1.running_var\n",
      "Its a match at block3.layer.3.bn1.num_batches_tracked\n",
      "Its a match at block3.layer.3.conv1.weight\n",
      "Its a match at block3.layer.4.bn1.weight\n",
      "Its a match at block3.layer.4.bn1.bias\n",
      "Its a match at block3.layer.4.bn1.running_mean\n",
      "Its a match at block3.layer.4.bn1.running_var\n",
      "Its a match at block3.layer.4.bn1.num_batches_tracked\n",
      "Its a match at block3.layer.4.conv1.weight\n",
      "Its a match at block3.layer.5.bn1.weight\n",
      "Its a match at block3.layer.5.bn1.bias\n",
      "Its a match at block3.layer.5.bn1.running_mean\n",
      "Its a match at block3.layer.5.bn1.running_var\n",
      "Its a match at block3.layer.5.bn1.num_batches_tracked\n",
      "Its a match at block3.layer.5.conv1.weight\n",
      "Its a match at block3.layer.6.bn1.weight\n",
      "Its a match at block3.layer.6.bn1.bias\n",
      "Its a match at block3.layer.6.bn1.running_mean\n",
      "Its a match at block3.layer.6.bn1.running_var\n",
      "Its a match at block3.layer.6.bn1.num_batches_tracked\n",
      "Its a match at block3.layer.6.conv1.weight\n",
      "Its a match at block3.layer.7.bn1.weight\n",
      "Its a match at block3.layer.7.bn1.bias\n",
      "Its a match at block3.layer.7.bn1.running_mean\n",
      "Its a match at block3.layer.7.bn1.running_var\n",
      "Its a match at block3.layer.7.bn1.num_batches_tracked\n",
      "Its a match at block3.layer.7.conv1.weight\n",
      "Its a match at block3.layer.8.bn1.weight\n",
      "Its a match at block3.layer.8.bn1.bias\n",
      "Its a match at block3.layer.8.bn1.running_mean\n",
      "Its a match at block3.layer.8.bn1.running_var\n",
      "Its a match at block3.layer.8.bn1.num_batches_tracked\n",
      "Its a match at block3.layer.8.conv1.weight\n",
      "Its a match at block3.layer.9.bn1.weight\n",
      "Its a match at block3.layer.9.bn1.bias\n",
      "Its a match at block3.layer.9.bn1.running_mean\n",
      "Its a match at block3.layer.9.bn1.running_var\n",
      "Its a match at block3.layer.9.bn1.num_batches_tracked\n",
      "Its a match at block3.layer.9.conv1.weight\n",
      "Its a match at block3.layer.10.bn1.weight\n",
      "Its a match at block3.layer.10.bn1.bias\n",
      "Its a match at block3.layer.10.bn1.running_mean\n",
      "Its a match at block3.layer.10.bn1.running_var\n",
      "Its a match at block3.layer.10.bn1.num_batches_tracked\n",
      "Its a match at block3.layer.10.conv1.weight\n",
      "Its a match at block3.layer.11.bn1.weight\n",
      "Its a match at block3.layer.11.bn1.bias\n",
      "Its a match at block3.layer.11.bn1.running_mean\n",
      "Its a match at block3.layer.11.bn1.running_var\n",
      "Its a match at block3.layer.11.bn1.num_batches_tracked\n",
      "Its a match at block3.layer.11.conv1.weight\n",
      "Its a match at bn1.weight\n",
      "Its a match at bn1.bias\n",
      "Its a match at bn1.running_mean\n",
      "Its a match at bn1.running_var\n",
      "Its a match at bn1.num_batches_tracked\n",
      "Its a match at fc.weight\n",
      "Its a match at fc.bias\n",
      "Models match perfectly! :)\n"
     ]
    }
   ],
   "source": [
    "model = joblib.load('model.pkl')\n",
    "model_other = joblib.load('model_other.pkl')\n",
    "compare_models(model, model_other)"
   ]
  },
  {
   "cell_type": "code",
   "execution_count": 216,
   "id": "586a25da-a150-476c-bc5f-dc31ad5a4944",
   "metadata": {},
   "outputs": [
    {
     "data": {
      "text/plain": [
       "(tensor([-0.462020933628,  1.668135166168, -1.316789984703, -0.030693136156,\n",
       "          0.966317713261], device='cuda:0'),\n",
       " tensor([-0.462020933628,  1.668135166168, -1.316789984703, -0.030693136156,\n",
       "          0.966317713261], device='cuda:0'))"
      ]
     },
     "execution_count": 216,
     "metadata": {},
     "output_type": "execute_result"
    }
   ],
   "source": [
    "torch.set_printoptions(precision=12)\n",
    "model.state_dict()['bn1.running_mean'][-5:], model_other.state_dict()['bn1.running_mean'][-5:]"
   ]
  },
  {
   "cell_type": "markdown",
   "id": "f13850ea-7322-48a1-a639-ac90d4ac7016",
   "metadata": {},
   "source": [
    "(tensor([-0.395167261362,  0.225659757853, -0.205155521631,  0.262294024229,\n",
    "          0.177738666534], device='cuda:0'),\n",
    "          \n",
    " tensor([-0.395167440176,  0.225659757853, -0.205155536532,  0.262294083834,\n",
    "          0.177738696337], device='cuda:0'))"
   ]
  },
  {
   "cell_type": "code",
   "execution_count": 213,
   "id": "2fa411c1-7775-4152-9d34-c0a4adf174c3",
   "metadata": {},
   "outputs": [
    {
     "data": {
      "text/plain": [
       "tensor([True, True, True, True, True], device='cuda:0')"
      ]
     },
     "execution_count": 213,
     "metadata": {},
     "output_type": "execute_result"
    }
   ],
   "source": [
    "model.state_dict()['bn1.running_mean'][-5:] == model_other.state_dict()['bn1.running_mean'][-5:]"
   ]
  },
  {
   "cell_type": "code",
   "execution_count": 214,
   "id": "87a2b92d-74ff-4b72-bf54-86bacc20afe7",
   "metadata": {},
   "outputs": [
    {
     "data": {
      "text/plain": [
       "(tensor(782, device='cuda:0'), tensor(782, device='cuda:0'))"
      ]
     },
     "execution_count": 214,
     "metadata": {},
     "output_type": "execute_result"
    }
   ],
   "source": [
    "model.state_dict()['bn1.num_batches_tracked'], model_other.state_dict()['bn1.num_batches_tracked']"
   ]
  },
  {
   "cell_type": "code",
   "execution_count": 210,
   "id": "809c6940-9496-481c-8486-fb8633a53c24",
   "metadata": {},
   "outputs": [
    {
     "data": {
      "text/plain": [
       "782"
      ]
     },
     "execution_count": 210,
     "metadata": {},
     "output_type": "execute_result"
    }
   ],
   "source": [
    "1096-314"
   ]
  },
  {
   "cell_type": "code",
   "execution_count": 133,
   "id": "690f72da-37c6-4690-b93f-5d1e584fe344",
   "metadata": {},
   "outputs": [],
   "source": [
    "model.state_dict()['conv1.weight'].grad"
   ]
  },
  {
   "cell_type": "code",
   "execution_count": 72,
   "id": "640bd5fe-18a1-4379-9982-29ff1e990f88",
   "metadata": {},
   "outputs": [
    {
     "data": {
      "text/plain": [
       "array([[-0.01319661,  0.02097806,  0.07708647],\n",
       "       [-0.00879365, -0.02745198,  0.00404509],\n",
       "       [-0.17060097,  0.00236645,  0.0463047 ]], dtype=float32)"
      ]
     },
     "execution_count": 72,
     "metadata": {},
     "output_type": "execute_result"
    }
   ],
   "source": [
    "model.state_dict()['conv1.weight'].cpu().detach().numpy()[0][0]"
   ]
  },
  {
   "cell_type": "code",
   "execution_count": 73,
   "id": "cbfd28db-4987-4a25-9ed8-5f7ba8331a77",
   "metadata": {},
   "outputs": [
    {
     "data": {
      "text/plain": [
       "array([[-0.01319698,  0.02097518,  0.0770831 ],\n",
       "       [-0.0087932 , -0.02745287,  0.00404501],\n",
       "       [-0.17060001,  0.00236583,  0.04630519]], dtype=float32)"
      ]
     },
     "execution_count": 73,
     "metadata": {},
     "output_type": "execute_result"
    }
   ],
   "source": [
    "model_other.state_dict()['conv1.weight'].cpu().detach().numpy()[0][0]"
   ]
  },
  {
   "cell_type": "code",
   "execution_count": 93,
   "id": "2f904eec-494d-44ba-a83d-e29e179f67a0",
   "metadata": {},
   "outputs": [
    {
     "data": {
      "text/plain": [
       "array([-0.00064227,  0.00395768,  0.01842655, -0.00622914,  0.00420009,\n",
       "        0.00018294,  0.02315863, -0.00022504, -0.00927119, -0.01681951,\n",
       "        0.00947453, -0.00023506, -0.00064698, -0.00877169,  0.0112449 ,\n",
       "        0.00470695, -0.01674166,  0.00863675, -0.00678893, -0.00778124,\n",
       "       -0.00665251,  0.00940233, -0.00718217, -0.01163542,  0.03688512,\n",
       "        0.002951  ,  0.07543098, -0.05768278,  0.00512432,  0.03226265,\n",
       "        0.12774254,  0.00478267, -0.11099427, -0.0274372 ,  0.11027243,\n",
       "        0.09518541], dtype=float32)"
      ]
     },
     "execution_count": 93,
     "metadata": {},
     "output_type": "execute_result"
    }
   ],
   "source": [
    "model.state_dict()['block1.layer.1.bn1.running_mean'].cpu().detach().numpy()"
   ]
  },
  {
   "cell_type": "code",
   "execution_count": 94,
   "id": "2c8a0f48-9cfb-4899-9e70-72ea2542c0b9",
   "metadata": {},
   "outputs": [
    {
     "data": {
      "text/plain": [
       "array([-0.00064227,  0.00395768,  0.01842655, -0.00622914,  0.00420009,\n",
       "        0.00018294,  0.02315863, -0.00022504, -0.00927119, -0.01681951,\n",
       "        0.00947453, -0.00023506, -0.00064698, -0.00877169,  0.0112449 ,\n",
       "        0.00470695, -0.01674166,  0.00863675, -0.00678893, -0.00778124,\n",
       "       -0.00665251,  0.00940233, -0.00718217, -0.01163542,  0.03688512,\n",
       "        0.002951  ,  0.07543098, -0.05768278,  0.00512432,  0.03226264,\n",
       "        0.12774254,  0.00478266, -0.11099424, -0.02743721,  0.11027243,\n",
       "        0.0951854 ], dtype=float32)"
      ]
     },
     "execution_count": 94,
     "metadata": {},
     "output_type": "execute_result"
    }
   ],
   "source": [
    "model_other.state_dict()['block1.layer.1.bn1.running_mean'].cpu().detach().numpy()"
   ]
  },
  {
   "cell_type": "code",
   "execution_count": 95,
   "id": "330fafcb-ba9e-4c3c-a5ba-f8e343e870f3",
   "metadata": {},
   "outputs": [
    {
     "data": {
      "text/plain": [
       "array(1)"
      ]
     },
     "execution_count": 95,
     "metadata": {},
     "output_type": "execute_result"
    }
   ],
   "source": [
    "model.state_dict()['block1.layer.0.bn1.num_batches_tracked'].cpu().detach().numpy()"
   ]
  },
  {
   "cell_type": "code",
   "execution_count": 96,
   "id": "219a9563-94a1-428a-8c9f-585447553ff7",
   "metadata": {},
   "outputs": [
    {
     "data": {
      "text/plain": [
       "array(1)"
      ]
     },
     "execution_count": 96,
     "metadata": {},
     "output_type": "execute_result"
    }
   ],
   "source": [
    "model_other.state_dict()['block1.layer.0.bn1.num_batches_tracked'].cpu().detach().numpy()"
   ]
  },
  {
   "cell_type": "code",
   "execution_count": 30,
   "id": "cc47bd5f-89e9-4721-b3f5-2283d4f5cdc7",
   "metadata": {},
   "outputs": [],
   "source": [
    "t1 = torch.tensor([[[ 0.1005, -0.0445,  0.0950],\n",
    "         [-0.1138,  0.1395, -0.0370],\n",
    "         [-0.0035, -0.0637, -0.0009]],\n",
    "\n",
    "        [[ 0.0412,  0.1025,  0.0709],\n",
    "         [ 0.0337,  0.0216,  0.0087],\n",
    "         [-0.0028, -0.0428, -0.0132]],\n",
    "\n",
    "        [[ 0.0994,  0.0065, -0.0915],\n",
    "         [-0.0065,  0.0593, -0.0698],\n",
    "         [ 0.0746,  0.0531,  0.1894]]], device='cuda:0')"
   ]
  },
  {
   "cell_type": "code",
   "execution_count": 48,
   "id": "35a5b705-db97-4050-9e04-11af8ffd83ca",
   "metadata": {},
   "outputs": [],
   "source": [
    "t2=torch.tensor([[[ 0.1check_trainloader005, -0.0445,  0.0950],\n",
    "         [-0.1138,  0.1395, -0.0370],\n",
    "         [-0.0035, -0.0637, -0.0009]],\n",
    "\n",
    "        [[ 0.0412,  0.1025,  0.0709],\n",
    "         [ 0.0337,  0.0216,  0.0087],\n",
    "         [-0.0028, -0.0428, -0.0132]],\n",
    "\n",
    "        [[ 0.0994,  0.0065, -0.0915],\n",
    "         [-0.0065,  0.0593, -0.0698],\n",
    "         [ 0.0746,  0.0531,  0.1894]]], device='cuda:0')"
   ]
  },
  {
   "cell_type": "code",
   "execution_count": 49,
   "id": "09166997-4d07-42ea-b769-8d88a7790cde",
   "metadata": {},
   "outputs": [
    {
     "data": {
      "text/plain": [
       "tensor([[[True, True, True],\n",
       "         [True, True, True],\n",
       "         [True, True, True]],\n",
       "\n",
       "        [[True, True, True],\n",
       "         [True, True, True],\n",
       "         [True, True, True]],\n",
       "\n",
       "        [[True, True, True],\n",
       "         [True, True, True],\n",
       "         [True, True, True]]], device='cuda:0')"
      ]
     },
     "execution_count": 49,
     "metadata": {},
     "output_type": "execute_result"
    }
   ],
   "source": [
    "torch.eq(t1, t2)"
   ]
  },
  {
   "cell_type": "code",
   "execution_count": 54,
   "id": "fc099c2e-b01d-45e3-bcf5-2ce140f48400",
   "metadata": {},
   "outputs": [
    {
     "name": "stdout",
     "output_type": "stream",
     "text": [
      "1.0\n"
     ]
    }
   ],
   "source": [
    "print(torch.sum(torch.eq(t1, t2)).item()/t1.nelement())"
   ]
  },
  {
   "cell_type": "markdown",
   "id": "953258c5-72c3-4ea9-93c1-9b9142212e10",
   "metadata": {},
   "source": [
    "# compare the outputs"
   ]
  },
  {
   "cell_type": "code",
   "execution_count": 134,
   "id": "1ae34dd3-78c0-4334-8d1c-1f4557e457cf",
   "metadata": {},
   "outputs": [],
   "source": [
    "output = joblib.load('outputs.pkl')\n",
    "output_other = joblib.load('outputs_other.pkl')\n"
   ]
  },
  {
   "cell_type": "code",
   "execution_count": 135,
   "id": "bc0dffa9-4439-4c84-8602-f943e440a546",
   "metadata": {},
   "outputs": [
    {
     "data": {
      "text/plain": [
       "False"
      ]
     },
     "execution_count": 135,
     "metadata": {},
     "output_type": "execute_result"
    }
   ],
   "source": [
    "torch.equal(output, output_other)"
   ]
  },
  {
   "cell_type": "code",
   "execution_count": 136,
   "id": "8f672af1-3e71-424e-9165-78ece1923025",
   "metadata": {},
   "outputs": [
    {
     "data": {
      "text/plain": [
       "tensor([ 0.288734197617, -0.213807314634, -0.777192175388,  0.009351372719,\n",
       "         0.234167441726], device='cuda:0', grad_fn=<SliceBackward0>)"
      ]
     },
     "execution_count": 136,
     "metadata": {},
     "output_type": "execute_result"
    }
   ],
   "source": [
    "output[0][-5:]"
   ]
  },
  {
   "cell_type": "markdown",
   "id": "7e643210-6e70-441f-9a87-8b8b81d6ad3d",
   "metadata": {},
   "source": [
    "tensor([ 0.288734197617, -0.213807314634, -0.777192175388,  0.009351372719,\n",
    "         0.234167441726], device='cuda:0', grad_fn=<SliceBackward0>)"
   ]
  },
  {
   "cell_type": "code",
   "execution_count": 137,
   "id": "9b98a650-c2a6-449f-b74c-0edac3df3477",
   "metadata": {},
   "outputs": [
    {
     "data": {
      "text/plain": [
       "tensor([ 0.288733720779, -0.213807061315, -0.777192115784,  0.009351611137,\n",
       "         0.234167322516], device='cuda:0', grad_fn=<SliceBackward0>)"
      ]
     },
     "execution_count": 137,
     "metadata": {},
     "output_type": "execute_result"
    }
   ],
   "source": [
    "output_other[0][-5:]"
   ]
  },
  {
   "cell_type": "markdown",
   "id": "71fe5148-cd37-45ad-a86d-5f0480b2b414",
   "metadata": {},
   "source": [
    "tensor([ 0.288733661175, -0.213807106018, -0.777191996574,  0.009351551533,\n",
    "         0.234167397022], device='cuda:0', grad_fn=<SliceBackward0>)"
   ]
  },
  {
   "cell_type": "markdown",
   "id": "e104f709-6a5b-4caf-bc01-c6b0eb98de6c",
   "metadata": {},
   "source": [
    "# compare the inputs"
   ]
  },
  {
   "cell_type": "code",
   "execution_count": 138,
   "id": "4a9c6d4c-9f20-4c55-8b1d-6c07ce5a0a43",
   "metadata": {},
   "outputs": [],
   "source": [
    "input = joblib.load('inputs.pkl')\n",
    "input_other = joblib.load('inputs_other.pkl')\n"
   ]
  },
  {
   "cell_type": "code",
   "execution_count": 139,
   "id": "46b6bb78-f98b-4da0-8267-d3757bcd9041",
   "metadata": {},
   "outputs": [
    {
     "data": {
      "text/plain": [
       "True"
      ]
     },
     "execution_count": 139,
     "metadata": {},
     "output_type": "execute_result"
    }
   ],
   "source": [
    "torch.equal(input, input_other)"
   ]
  },
  {
   "cell_type": "code",
   "execution_count": 140,
   "id": "54c2cb49-8a85-4d83-a58a-936e1b2520b5",
   "metadata": {},
   "outputs": [
    {
     "data": {
      "text/plain": [
       "torch.Size([64, 3, 32, 32])"
      ]
     },
     "execution_count": 140,
     "metadata": {},
     "output_type": "execute_result"
    }
   ],
   "source": [
    "input.shape"
   ]
  },
  {
   "cell_type": "code",
   "execution_count": 141,
   "id": "c620d0a1-247b-465a-a67b-6e62fe425bb0",
   "metadata": {},
   "outputs": [
    {
     "data": {
      "text/plain": [
       "tensor([-1.988888859749, -1.988888859749, -1.988888859749, -1.988888859749,\n",
       "        -1.988888859749], device='cuda:0')"
      ]
     },
     "execution_count": 141,
     "metadata": {},
     "output_type": "execute_result"
    }
   ],
   "source": [
    "input[0][0][0][:5]"
   ]
  },
  {
   "cell_type": "code",
   "execution_count": 142,
   "id": "ea604805-d571-4c08-8dd6-41365057da1b",
   "metadata": {},
   "outputs": [
    {
     "data": {
      "text/plain": [
       "tensor([-1.988888859749, -1.988888859749, -1.988888859749, -1.988888859749,\n",
       "        -1.988888859749], device='cuda:0')"
      ]
     },
     "execution_count": 142,
     "metadata": {},
     "output_type": "execute_result"
    }
   ],
   "source": [
    "input_other[0][0][0][:5]"
   ]
  },
  {
   "cell_type": "code",
   "execution_count": null,
   "id": "965359b1-5f06-447c-9498-ddaaa81080aa",
   "metadata": {},
   "outputs": [],
   "source": []
  }
 ],
 "metadata": {
  "kernelspec": {
   "display_name": "py310",
   "language": "python",
   "name": "py310"
  },
  "language_info": {
   "codemirror_mode": {
    "name": "ipython",
    "version": 3
   },
   "file_extension": ".py",
   "mimetype": "text/x-python",
   "name": "python",
   "nbconvert_exporter": "python",
   "pygments_lexer": "ipython3",
   "version": "3.10.0"
  }
 },
 "nbformat": 4,
 "nbformat_minor": 5
}
